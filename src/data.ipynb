{
 "cells": [
  {
   "cell_type": "code",
   "execution_count": 87,
   "metadata": {},
   "outputs": [],
   "source": [
    "import networkx as nx\n",
    "import numpy as np\n",
    "import json\n",
    "from collections import defaultdict"
   ]
  },
  {
   "cell_type": "code",
   "execution_count": 88,
   "metadata": {},
   "outputs": [],
   "source": [
    "def load_data(ds_name, use_node_labels):\n",
    "    node2graph = {}\n",
    "    Gs = []\n",
    "\n",
    "    with open(\"../datasets/%s/%s_graph_indicator.txt\" % (ds_name, ds_name), \"r\") as f:\n",
    "        c = 1\n",
    "        for line in f:\n",
    "            node2graph[c] = int(line[:-1])\n",
    "            if not node2graph[c] == len(Gs):\n",
    "                Gs.append(nx.Graph())\n",
    "            Gs[-1].add_node(c)\n",
    "            c += 1\n",
    "\n",
    "    with open(\"../datasets/%s/%s_A.txt\" % (ds_name, ds_name), \"r\") as f:\n",
    "        for line in f:\n",
    "            edge = line[:-1].split(\",\")\n",
    "            edge[1] = edge[1].replace(\" \", \"\")\n",
    "            Gs[node2graph[int(edge[0])] - 1].add_edge(int(edge[0]), int(edge[1]))\n",
    "\n",
    "    if use_node_labels:\n",
    "        with open(\"../datasets/%s/%s_node_labels.txt\" % (ds_name, ds_name), \"r\") as f:\n",
    "            c = 1\n",
    "            for line in f:\n",
    "                node_label = int(line[:-1])\n",
    "                Gs[node2graph[c] - 1].node[c]['label'] = node_label\n",
    "                c += 1\n",
    "\n",
    "    labels = []\n",
    "    with open(\"../datasets/%s/%s_graph_labels.txt\" % (ds_name, ds_name), \"r\") as f:\n",
    "        for line in f:\n",
    "            labels.append(int(line[:-1]))\n",
    "\n",
    "    labels = np.array(labels, dtype=np.float)\n",
    "    return Gs, labels"
   ]
  },
  {
   "cell_type": "code",
   "execution_count": 131,
   "metadata": {},
   "outputs": [],
   "source": [
    "dataset = 'BZR'"
   ]
  },
  {
   "cell_type": "code",
   "execution_count": 132,
   "metadata": {},
   "outputs": [],
   "source": [
    "Gs, targets = load_data(dataset, True)"
   ]
  },
  {
   "cell_type": "code",
   "execution_count": 135,
   "metadata": {},
   "outputs": [],
   "source": [
    "targets = targets.astype(int)"
   ]
  },
  {
   "cell_type": "code",
   "execution_count": 136,
   "metadata": {},
   "outputs": [],
   "source": [
    "node_labels = []\n",
    "edge_lists = []\n",
    "inverse_labels = []\n",
    "for i, G in enumerate(Gs):\n",
    "    labels = nx.get_node_attributes(G, 'label')\n",
    "    node_labels.append({str(node): label for node, label in labels.items()})\n",
    "    edge_lists.append([list(edge) for edge in G.edges()])\n",
    "    inv_dict = defaultdict(list)\n",
    "    for node, label in labels.items():\n",
    "        inv_dict[str(label)].append(node)\n",
    "    inverse_labels.append(dict(inv_dict))"
   ]
  },
  {
   "cell_type": "code",
   "execution_count": 137,
   "metadata": {},
   "outputs": [],
   "source": [
    "import os\n",
    "import glob\n",
    "\n",
    "files = glob.glob('../input/'+dataset+'/train/*')\n",
    "for f in files:\n",
    "    os.remove(f)"
   ]
  },
  {
   "cell_type": "code",
   "execution_count": 138,
   "metadata": {},
   "outputs": [],
   "source": [
    "i_train = 1\n",
    "i_test = 1\n",
    "for (edges, labels, inverse_labels, target) in zip(edge_lists, node_labels, inverse_labels, targets):\n",
    "    to_write = {'edges': edges, 'labels': labels, 'inverse_labels': inverse_labels, 'target': int(target)}\n",
    "    if np.random.rand() < 0.9:\n",
    "        with open('../input/'+dataset+'/train/'+str(i_train)+'.json', 'w') as f:\n",
    "            json.dump(to_write, f)\n",
    "        i_train += 1\n",
    "    else:\n",
    "        with open('../input/'+dataset+'/test/'+str(i_test)+'.json', 'w') as f:\n",
    "            json.dump(to_write, f)\n",
    "        i_test += 1"
   ]
  },
  {
   "cell_type": "code",
   "execution_count": null,
   "metadata": {},
   "outputs": [],
   "source": []
  }
 ],
 "metadata": {
  "kernelspec": {
   "display_name": "Python 3",
   "language": "python",
   "name": "python3"
  },
  "language_info": {
   "codemirror_mode": {
    "name": "ipython",
    "version": 3
   },
   "file_extension": ".py",
   "mimetype": "text/x-python",
   "name": "python",
   "nbconvert_exporter": "python",
   "pygments_lexer": "ipython3",
   "version": "3.6.8"
  }
 },
 "nbformat": 4,
 "nbformat_minor": 2
}
